{
 "cells": [
  {
   "cell_type": "markdown",
   "metadata": {},
   "source": [
    "# *Elements of Programming Interviews* solution notes\n",
    "This notebook will hold my attempts at problems from *Elements of Programming Interviews* in Python. For each problem, record\n",
    "* Brute force solution code\n",
    "* Optimized solution code\n",
    "* Book solution code\n",
    "* Comments\n",
    "    1. How does my solution compare with the book solution?\n",
    "    2. What went right in my attempt?\n",
    "    3. What went wrong in my attempt\n",
    "    4. Do I need to learn new data structure or algorithms?"
   ]
  },
  {
   "cell_type": "markdown",
   "metadata": {},
   "source": [
    "## Arrays "
   ]
  },
  {
   "cell_type": "markdown",
   "metadata": {},
   "source": [
    "### Buy and sell a stock once \n",
    "Given the price of a stock over a range of days, find the maximum profit one could make by buying the stock, then selling it on a future day. There is no need to buy if it is impossible to make a profit."
   ]
  },
  {
   "cell_type": "markdown",
   "metadata": {},
   "source": [
    "#### Attempt 1\n",
    "It was helpful to think of the prices as elevation, with the array as a linear trail consisting of a series of peaks and valleys. I am a climber who would like to know the greatest increase in elevation while traveling one direction along the array. I can teleport, but I don't know the elevation at a given point until I travel to that location. I am given two flags labeled `lo` and `hi`.  \n",
    "\n",
    "I begin by travelling downhill until I reach a valley as a starting point. If I reach the end of the trail without finding a valley, it means I never increased elevation and should return `0`. After placing `lo` at my starting point, I travel along the entire trail to find the highest peak and place `hi` at this location. I then move `lo` forward to the lowest valley before `hi` and record the elevation gain from `lo` to `hi` in my notebook. From this point, there could be a larger elevation change after `hi`, but not before it. I pick up my flags and repeat my steps on the remaining section of the trail, marking down the new elevation change. I will eventually reach the end of the trail, at which point I return the greatest elevation change I recorded in my notebook.\n",
    "\n",
    "Consider a trail with $n$ points. The fastest time is if there is no elevation gain, in which case it takes $n-1$ steps to reach the end of the trail. If the highest peak is at the very end of the trail, the slowest time will be if the lowest valley is just before the highest peak at $n-2$. It will take $n-1$ steps to find the peak and $n-2$ steps to find the trail, or $2n-3$ steps in total. The worst case time will be $\\sum_{i=1}^{m}(2l_i - 3)$, where $m$ is the number of segments and $l_i$ is the length of the $i^{th}$ segment. Thus, the time complexity is $O(n)$."
   ]
  },
  {
   "cell_type": "code",
   "execution_count": 3,
   "metadata": {},
   "outputs": [],
   "source": [
    "def buy_and_sell_stock_once(prices):\n",
    "    n = len(prices)\n",
    "    max_profit = 0\n",
    "    lo = 0\n",
    "    while lo < n-1:\n",
    "        # Move lo to valley as starting point\n",
    "        while prices[lo+1] <= prices[lo]:\n",
    "            lo += 1\n",
    "            if lo == n-1:\n",
    "                return max_profit\n",
    "        # Move hi to highest peak\n",
    "        hi = lo+1\n",
    "        for i in range(lo+1, n):\n",
    "            if prices[i] > prices[hi]:\n",
    "                hi = i\n",
    "        # Move lo to lowest valley before hi \n",
    "        for i in range(lo+1, hi):\n",
    "            if prices[i] < prices[lo]:\n",
    "                lo = i\n",
    "        # Record elevation gain\n",
    "        local_profit = prices[hi] - prices[lo]\n",
    "        max_profit = max(max_profit, local_profit)\n",
    "        # Check next sub-array\n",
    "        lo = hi + 1\n",
    "    return max_profit"
   ]
  },
  {
   "cell_type": "markdown",
   "metadata": {},
   "source": [
    "#### Book solution\n",
    "Iterate through the array, remembering the lowest price so far. On day i, compute the profit we would make by buying at the lowest price seen so far and selling at the current price `prices[i]`.  "
   ]
  },
  {
   "cell_type": "code",
   "execution_count": 4,
   "metadata": {},
   "outputs": [],
   "source": [
    "def buy_and_sell_stock_once(prices):\n",
    "    min_price_so_far, max_profit = float('inf'), 0.0\n",
    "    for price in prices:\n",
    "        max_profit_sell_today = price - min_price_so_far\n",
    "        max_profit = max(max_profit, max_profit_sell_today)\n",
    "        min_price_so_far = min(min_price_so_far, price)\n",
    "    return max_profit"
   ]
  },
  {
   "cell_type": "markdown",
   "metadata": {},
   "source": [
    "#### Comments\n",
    "Although my solution works and runs in about half the time as the book solution, it is hard to read on its own and took a while to reach. I could have reached the book solution quickly if I spent more time thinking before I wrote down any code.\n",
    "\n",
    "1. My solution actually runs 2x faster than the book, but is much less compact and readable.\n",
    "2. I solved the problem with brute force method quickly, and ended up with a working faster solution.\n",
    "3. I started coding too quickly and missed the more compact solution. Thus the total time I took to solve the problem was much too long. \n",
    "4. No new DS or algorithms to learn."
   ]
  },
  {
   "cell_type": "markdown",
   "metadata": {},
   "source": [
    "### Buy and sell a stock twice\n",
    "Given the price of a stock over a range of days, find the maximum profit one could make by buying and selling a stock twice, with the second buy on a day after the first sell. There is no need to buy if it is impossible to make a profit."
   ]
  },
  {
   "cell_type": "markdown",
   "metadata": {},
   "source": [
    "#### Attempt 1\n",
    "Run the one buy/sell solution on left and right part of the array. It will be $O(n^2)$."
   ]
  },
  {
   "cell_type": "code",
   "execution_count": 6,
   "metadata": {},
   "outputs": [],
   "source": [
    "def buy_and_sell_stock_twice(prices):\n",
    "    max_profit = 0\n",
    "    for i in range(len(prices)):\n",
    "        profit = buy_and_sell_stock_once(prices[:i]) + buy_and_sell_stock_once(prices[i:])\n",
    "        max_profit = max(max_profit, profit)\n",
    "    return max_profit"
   ]
  },
  {
   "cell_type": "markdown",
   "metadata": {},
   "source": [
    "#### Attempt 2\n",
    "I read the description of the solution but didn't copy; I tried to implement it myself. It basically goes through each day and looks at the maximum profit one could make by buying on a previous day selling today, as well as buying today and selling on a future day. The sum of these values is the maximum profit on a given day. The time complexity is $O(n)$ and the space complexity is $O(n)$."
   ]
  },
  {
   "cell_type": "code",
   "execution_count": 5,
   "metadata": {},
   "outputs": [],
   "source": [
    "def buy_and_sell_stock_twice(prices):\n",
    "    min_so_far, max_so_far = float('inf'), float('-inf')\n",
    "    n = len(prices)\n",
    "    L, R = [0] * n, [0] * n\n",
    "    for i in range(1, n):\n",
    "        j = n-1-i\n",
    "        min_so_far = min(min_so_far, prices[i-1])\n",
    "        max_so_far = max(max_so_far, prices[j+1])\n",
    "        L[i] = max(L[i-1], prices[i] - min_so_far)\n",
    "        R[j] = max(R[j+1], max_so_far - prices[j])\n",
    "    return max([sell+buy for sell,buy in zip(L, R)])"
   ]
  },
  {
   "cell_type": "markdown",
   "metadata": {},
   "source": [
    "#### Book solution"
   ]
  },
  {
   "cell_type": "code",
   "execution_count": 10,
   "metadata": {},
   "outputs": [],
   "source": [
    "def buy_and_sell_stock_twice(prices):\n",
    "\n",
    "    max_total_profit, min_price_so_far = 0.0, float('inf')\n",
    "    first_buy_sell_profits = [0.0] * len(prices)\n",
    "    # Forward phase. For each day, we record maximum profit if we sell on that\n",
    "    # day.\n",
    "    for i, price in enumerate(prices):\n",
    "        min_price_so_far = min(min_price_so_far, price)\n",
    "        max_total_profit = max(max_total_profit, price - min_price_so_far)\n",
    "        first_buy_sell_profits[i] = max_total_profit\n",
    "\n",
    "    # Backward phase. For each day, find the maximum profit if we make the\n",
    "    # second buy on that day.\n",
    "    max_price_so_far = float('-inf')\n",
    "    for i, price in reversed(list(enumerate(prices[1:], 1))):\n",
    "        max_price_so_far = max(max_price_so_far, price)\n",
    "        max_total_profit = max(\n",
    "            max_total_profit,\n",
    "            max_price_so_far - price + first_buy_sell_profits[i])\n",
    "    return max_total_profit\n",
    "\n",
    "\n",
    "def buy_and_sell_stock_twice_constant_space(prices):\n",
    "    min_prices, max_profits = [float('inf')] * 2, [0] * 2\n",
    "    for price in prices:\n",
    "        for i in reversed(range(2)):\n",
    "            max_profits[i] = max(max_profits[i], price - min_prices[i])\n",
    "            min_prices[i] = min(min_prices[i],\n",
    "                                price - (0 if i == 0 else max_profits[i - 1]))\n",
    "    return max_profits[-1]"
   ]
  },
  {
   "cell_type": "markdown",
   "metadata": {},
   "source": [
    "#### Comments\n",
    "1. The book solution uses enumerate and is prettier. I guess the variable names are also more meaningful.\n",
    "2. I got the $O(n^2)$ solution right away. Once I read the approach to the $O(n)$ solution, I was able to implement it myself.\n",
    "3. I had trouble coming up with the $O(n)$ solution. \n",
    "4. Nothing new to learn, but be comfortable using `enumerate` and `reverse` to iterate backwards through lists."
   ]
  },
  {
   "cell_type": "markdown",
   "metadata": {},
   "source": [
    "### Rearrange and array \n",
    "Rearrange `A` so that `A[0] <= A[1] >= A[2] <= A[3] ...`. "
   ]
  },
  {
   "cell_type": "markdown",
   "metadata": {},
   "source": [
    "#### Attempt 1\n",
    "Sort the array, then swap every other pair. $O(n\\log{n})$ to sort."
   ]
  },
  {
   "cell_type": "code",
   "execution_count": 3,
   "metadata": {},
   "outputs": [],
   "source": [
    "def rearrange(A):\n",
    "    A.sort()\n",
    "    for i in range(1, len(A)-1, 2):\n",
    "        A[i], A[i+1] = A[i+1], A[i]"
   ]
  },
  {
   "cell_type": "markdown",
   "metadata": {},
   "source": [
    "#### Attempt 2\n",
    "After getting hint from the book, I realized I can just sort locally."
   ]
  },
  {
   "cell_type": "code",
   "execution_count": 8,
   "metadata": {},
   "outputs": [],
   "source": [
    "def rearrange(A):\n",
    "    for i in range(len(A)-1): \n",
    "        if (i % 2 and A[i] > A[i+1]) or (not i % 2 and A[i] < A[i+1]):\n",
    "            A[i], A[i+1] = A[i+1], A[i]"
   ]
  },
  {
   "cell_type": "markdown",
   "metadata": {},
   "source": [
    "#### Book solution\n",
    "Same method as attempt 2"
   ]
  },
  {
   "cell_type": "code",
   "execution_count": 7,
   "metadata": {},
   "outputs": [],
   "source": [
    "def rearrange(A):\n",
    "    for i in range(len(A)):\n",
    "        A[i:i+2] = sorted(A[i:i+2], reverse=i%2)"
   ]
  },
  {
   "cell_type": "markdown",
   "metadata": {},
   "source": [
    "#### Comments\n",
    "1. My solution is harder to read than the book solution.\n",
    "2. I got an initial solution down quickly.\n",
    "3. I got hung up on finding the median, which is not super easy. This distracted me from the other $O(n)$ solution.\n",
    "4. Nothing new to learn here."
   ]
  },
  {
   "cell_type": "markdown",
   "metadata": {},
   "source": [
    "### Enumerate all primes to n \n",
    "Return all primes greater than 1 and less than or equal to $n$."
   ]
  },
  {
   "cell_type": "markdown",
   "metadata": {},
   "source": [
    "#### Method 1\n",
    "I've done this problem before. Starting from i=2, run through the numbers and eliminate all multiples of i. Then move to the next number that's not crossed out and repeat. Do this until i >= $\\sqrt{n}$. Here is the book's method. The next iteration does some optimization, but I won't list it here."
   ]
  },
  {
   "cell_type": "code",
   "execution_count": 25,
   "metadata": {},
   "outputs": [],
   "source": [
    "def generate_primes(n):\n",
    "    primes = []\n",
    "    is_prime = [False, False] + [True] * (n-1)\n",
    "    for p in range(2, n+1):\n",
    "        if is_prime[p]:\n",
    "            primes.append(p)\n",
    "            # Remove all multiples of p\n",
    "            for i in range(p, n+1, p):\n",
    "                is_prime[i] = False\n",
    "    return primes"
   ]
  },
  {
   "cell_type": "markdown",
   "metadata": {},
   "source": [
    "### Permute the elements of an array\n",
    "$P$ is an array that tells how to permute an array. Example: $A = [a, b, c, d]$ and $P = [0, 2, 1, 3]$ would change $A$ to $[a, c, b, d]$. Write a function that applies $P$ to $A$."
   ]
  },
  {
   "cell_type": "markdown",
   "metadata": {},
   "source": [
    "#### Method 1\n",
    "$O(n)$ time, $O(n)$ space."
   ]
  },
  {
   "cell_type": "code",
   "execution_count": 30,
   "metadata": {},
   "outputs": [],
   "source": [
    "def apply_permutation(perm, A):\n",
    "    B = [0] * len(A)\n",
    "    for i in range(len(A)):\n",
    "        B[perm[i]] = A[i]\n",
    "    A[:] = B"
   ]
  },
  {
   "cell_type": "markdown",
   "metadata": {},
   "source": [
    "#### Method 2\n",
    "$O(1)$ space, and I think $O(n)$ time. This method orders $P$ at the same time as $A$. It matches the book solution."
   ]
  },
  {
   "cell_type": "code",
   "execution_count": 58,
   "metadata": {},
   "outputs": [],
   "source": [
    "def apply_permutation(perm, A):\n",
    "    for i in range(len(A)):\n",
    "        while perm[i] != i:\n",
    "            A[perm[i]], A[i] = A[i], A[perm[i]]\n",
    "            perm[perm[i]], perm[i] = perm[i], perm[perm[i]]"
   ]
  },
  {
   "cell_type": "markdown",
   "metadata": {},
   "source": [
    "#### Comments\n",
    "1. My solution matches the solution in the code, but in the older book I have there is a much more complex solution.\n",
    "2. This was a pretty easy problem, but I figured out the easy and the optimized solution.\n",
    "3. I probably took too long.\n",
    "4. Nothing new to learn."
   ]
  },
  {
   "cell_type": "markdown",
   "metadata": {},
   "source": [
    "### Compute the next permutation "
   ]
  },
  {
   "cell_type": "code",
   "execution_count": 20,
   "metadata": {},
   "outputs": [
    {
     "name": "stdout",
     "output_type": "stream",
     "text": [
      "[]\n"
     ]
    }
   ],
   "source": [
    "def next_permutation(perm):\n",
    "    \n",
    "    def swap(array, i, j):\n",
    "        array[i], array[j] = array[j], array[i]\n",
    "\n",
    "    # Check for short arrays\n",
    "    n = len(perm)\n",
    "    if n < 2:\n",
    "        return perm\n",
    "\n",
    "    perm[-2:] = sorted(perm[-2:, reverse=True])\n",
    "\n",
    "    else:\n",
    "        # Find anti-sorted section of perm\n",
    "        i = n-2\n",
    "        while perm[i] >= perm[i+1]:\n",
    "            i -= 1\n",
    "            if i < 0:\n",
    "                return []\n",
    "        # Find element in perm[i+1] which is next largest after perm[i]\n",
    "        i_next_largest = i+1\n",
    "        for j in range(i+2, n):\n",
    "            if perm[j] > perm[i] and perm[j] < perm[i_next_largest]:\n",
    "                i_next_largest = j\n",
    "        # Swap that element and sort the remaining array\n",
    "        swap(perm, i, i_next_largest)\n",
    "        perm[i+1:] = sorted(perm[i+1:])\n",
    "    return perm\n",
    "\n",
    "perm = [2,2]\n",
    "next_perm = next_permutation(perm)\n",
    "print(next_perm)"
   ]
  },
  {
   "cell_type": "markdown",
   "metadata": {},
   "source": [
    "Time to solve = 1 hour."
   ]
  },
  {
   "cell_type": "code",
   "execution_count": null,
   "metadata": {},
   "outputs": [],
   "source": []
  }
 ],
 "metadata": {
  "kernelspec": {
   "display_name": "Python 3",
   "language": "python",
   "name": "python3"
  },
  "language_info": {
   "codemirror_mode": {
    "name": "ipython",
    "version": 3
   },
   "file_extension": ".py",
   "mimetype": "text/x-python",
   "name": "python",
   "nbconvert_exporter": "python",
   "pygments_lexer": "ipython3",
   "version": "3.7.7"
  },
  "toc": {
   "base_numbering": 1,
   "nav_menu": {},
   "number_sections": true,
   "sideBar": true,
   "skip_h1_title": true,
   "title_cell": "Table of Contents",
   "title_sidebar": "Contents",
   "toc_cell": false,
   "toc_position": {
    "height": "calc(100% - 180px)",
    "left": "10px",
    "top": "150px",
    "width": "244.09925842285156px"
   },
   "toc_section_display": true,
   "toc_window_display": true
  }
 },
 "nbformat": 4,
 "nbformat_minor": 4
}
