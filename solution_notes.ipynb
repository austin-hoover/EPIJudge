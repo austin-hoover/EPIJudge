{
 "cells": [
  {
   "cell_type": "markdown",
   "metadata": {},
   "source": [
    "# *Elements of Programming Interviews* solution notes\n",
    "This notebook will hold my attempts at problems from *Elements of Programming Interviews* in Python. For each problem, record\n",
    "* Brute force solution code\n",
    "* Optimized solution code\n",
    "* Book solution code\n",
    "* Comments\n",
    "    1. How does my solution compare with the book solution?\n",
    "    2. What went right in my attempt?\n",
    "    3. What went wrong in my attempt\n",
    "    4. Do I need to learn new data structure or algorithms?"
   ]
  },
  {
   "cell_type": "markdown",
   "metadata": {},
   "source": [
    "## Primitive Types"
   ]
  },
  {
   "cell_type": "markdown",
   "metadata": {},
   "source": [
    "## Arrays "
   ]
  },
  {
   "cell_type": "markdown",
   "metadata": {},
   "source": [
    "### The Dutch national flag problem"
   ]
  },
  {
   "cell_type": "markdown",
   "metadata": {},
   "source": [
    "### Increment an arbitrary precision integer"
   ]
  },
  {
   "cell_type": "markdown",
   "metadata": {},
   "source": [
    "### Multiply two arbitrary precision integer"
   ]
  },
  {
   "cell_type": "markdown",
   "metadata": {},
   "source": [
    "### Advancing through an array"
   ]
  },
  {
   "cell_type": "markdown",
   "metadata": {},
   "source": [
    "### Delete duplicates from a sorted array"
   ]
  },
  {
   "cell_type": "markdown",
   "metadata": {},
   "source": [
    "### Buy and sell a stock once \n",
    "It was helpful to think of the prices as elevation, with the array as a linear trail consisting of a series of peaks and valleys. I am a climber who would like to know the greatest increase in elevation while traveling one direction along the array. I can teleport, but I don't know the elevation at a given point until I travel to that location. I am given two flags labeled `lo` and `hi`.  \n",
    "\n",
    "I begin by travelling downhill until I reach a valley as a starting point. If I reach the end of the trail without finding a valley, it means I never increased elevation and should return `0`. After placing `lo` at my starting point, I travel along the entire trail to find the highest peak and place `hi` at this location. I then move `lo` forward to the lowest valley before `hi` and record the elevation gain from `lo` to `hi` in my notebook. From this point, there could be a larger elevation change after `hi`, but not before it. I pick up my flags and repeat my steps on the remaining section of the trail, marking down the new elevation change. I will eventually reach the end of the trail, at which point I return the greatest elevation change I recorded in my notebook.\n",
    "\n",
    "Consider a trail with $n$ points. The fastest time is if there is no elevation gain, in which case it takes $n-1$ steps to reach the end of the trail. If the highest peak is at the very end of the trail, the slowest time will be if the lowest valley is just before the highest peak at $n-2$. It will take $n-1$ steps to find the peak and $n-2$ steps to find the trail, or $2n-3$ steps in total. The worst case time will be $\\sum_{i=1}^{m}(2l_i - 3)$, where $m$ is the number of segments and $l_i$ is the length of the $i^{th}$ segment. Thus, the time complexity is $O(n)$."
   ]
  },
  {
   "cell_type": "code",
   "execution_count": 2,
   "metadata": {},
   "outputs": [],
   "source": [
    "def buy_and_sell_stock_once(prices):\n",
    "    n = len(prices)\n",
    "    max_profit = 0\n",
    "    lo = 0\n",
    "    while lo < n-1:\n",
    "        # Move lo to valley as starting point\n",
    "        while prices[lo+1] <= prices[lo]:\n",
    "            lo += 1\n",
    "            if lo == n-1:\n",
    "                return max_profit\n",
    "        # Move hi to highest peak\n",
    "        hi = lo+1\n",
    "        for i in range(lo+1, n):\n",
    "            if prices[i] > prices[hi]:\n",
    "                hi = i\n",
    "        # Move lo to lowest valley before hi \n",
    "        for i in range(lo+1, hi):\n",
    "            if prices[i] < prices[lo]:\n",
    "                lo = i\n",
    "        # Record elevation gain\n",
    "        local_profit = prices[hi] - prices[lo]\n",
    "        max_profit = max(max_profit, local_profit)\n",
    "        # Check next sub-array\n",
    "        lo = hi + 1\n",
    "    return max_profit"
   ]
  },
  {
   "cell_type": "markdown",
   "metadata": {},
   "source": [
    "1. My solution works, but is much less compact and readable.\n",
    "2. I solved the problem with brute force method quickly, and ended up with a working faster solution.\n",
    "3. I started coding too quickly and missed the more compact solution. Thus the total time I took to solve the problem was much too long. \n",
    "4. Nothing new to learn."
   ]
  },
  {
   "cell_type": "markdown",
   "metadata": {},
   "source": [
    "### Buy and sell a stock twice\n",
    "After finding the $O(n^2)$ solution of running the one buy/sell code on the left and right parts of the array, I read the description of the optimal solution but didn't copy; I tried to implement it myself. It basically goes through each day and looks at the maximum profit one could make by buying on a previous day selling today, as well as buying today and selling on a future day. The sum of these values is the maximum profit on a given day. The time complexity is $O(n)$ and the space complexity is $O(n)$."
   ]
  },
  {
   "cell_type": "code",
   "execution_count": 24,
   "metadata": {},
   "outputs": [],
   "source": [
    "def buy_and_sell_stock_twice(prices):\n",
    "    min_so_far, max_so_far = float('inf'), float('-inf')\n",
    "    n = len(prices)\n",
    "    L, R = [0] * n, [0] * n\n",
    "    for i in range(1, n):\n",
    "        j = n-1-i\n",
    "        min_so_far = min(min_so_far, prices[i-1])\n",
    "        max_so_far = max(max_so_far, prices[j+1])\n",
    "        L[i] = max(L[i-1], prices[i] - min_so_far)\n",
    "        R[j] = max(R[j+1], max_so_far - prices[j])\n",
    "    return max([sell+buy for sell,buy in zip(L, R)])"
   ]
  },
  {
   "cell_type": "markdown",
   "metadata": {},
   "source": [
    "1. The book solution uses enumerate and is prettier. I guess the variable names are also more meaningful.\n",
    "2. I got the $O(n^2)$ solution right away. Once I read the approach to the $O(n)$ solution, I was able to implement it myself.\n",
    "3. I had trouble coming up with the $O(n)$ solution. \n",
    "4. Nothing new to learn, but be comfortable using `enumerate` and `reverse` to iterate backwards through lists."
   ]
  },
  {
   "cell_type": "markdown",
   "metadata": {},
   "source": [
    "### Rearrange an array \n",
    "I realized I can just sort locally based on hint from book."
   ]
  },
  {
   "cell_type": "code",
   "execution_count": 25,
   "metadata": {},
   "outputs": [],
   "source": [
    "def rearrange(A):\n",
    "    for i in range(len(A)-1): \n",
    "        if (i % 2 and A[i] > A[i+1]) or (not i % 2 and A[i] < A[i+1]):\n",
    "            A[i], A[i+1] = A[i+1], A[i]"
   ]
  },
  {
   "cell_type": "markdown",
   "metadata": {},
   "source": [
    "1. My solution is harder to read than the book solution.\n",
    "2. I got an initial solution down quickly.\n",
    "3. I got hung up on finding the median, which is not super easy. This distracted me from the other $O(n)$ solution.\n",
    "4. Nothing new to learn."
   ]
  },
  {
   "cell_type": "markdown",
   "metadata": {},
   "source": [
    "### Enumerate all primes to n \n",
    "I've done this problem before. Starting from i=2, run through the numbers and eliminate all multiples of i. Then move to the next number that's not crossed out and repeat. Do this until i >= $\\sqrt{n}$. Here is the book's method. The next iteration does some optimization, but I won't list it here."
   ]
  },
  {
   "cell_type": "code",
   "execution_count": 26,
   "metadata": {},
   "outputs": [],
   "source": [
    "def generate_primes(n):\n",
    "    primes = []\n",
    "    is_prime = [False, False] + [True] * (n-1)\n",
    "    for p in range(2, n+1):\n",
    "        if is_prime[p]:\n",
    "            primes.append(p)\n",
    "            # Remove all multiples of p\n",
    "            for i in range(p, n+1, p):\n",
    "                is_prime[i] = False\n",
    "    return primes"
   ]
  },
  {
   "cell_type": "markdown",
   "metadata": {},
   "source": [
    "### Permute the elements of an array\n",
    "$O(n)$ time, $O(n)$ space."
   ]
  },
  {
   "cell_type": "code",
   "execution_count": 27,
   "metadata": {},
   "outputs": [],
   "source": [
    "def apply_permutation(perm, A):\n",
    "    B = [0] * len(A)\n",
    "    for i in range(len(A)):\n",
    "        B[perm[i]] = A[i]\n",
    "    A[:] = B"
   ]
  },
  {
   "cell_type": "markdown",
   "metadata": {},
   "source": [
    "1. My solution matches the solution in the code, but in the older book I have there is a much more complex solution.\n",
    "2. This was a pretty easy problem, but I figured out the easy and the optimized solution.\n",
    "3. I probably took too long.\n",
    "4. Nothing new to learn."
   ]
  },
  {
   "cell_type": "markdown",
   "metadata": {},
   "source": [
    "### Compute the next permutation \n",
    "If P[-1] > P[-2], the answer is simply to swap those elements. Otherwise, we need to traverse the array backwards until we find P[i] < P[i+1]. Then find the smallest element in P[i+1:] which is greater than P[i] and swap that element with P[i]. Finally, sort the remaining subarray P[i+1:]. Took around 1 hour to solve."
   ]
  },
  {
   "cell_type": "code",
   "execution_count": 28,
   "metadata": {},
   "outputs": [],
   "source": [
    "def next_permutation(perm):\n",
    "    \n",
    "    # Check for short arrays\n",
    "    n = len(perm)\n",
    "    if n < 2:\n",
    "        return []\n",
    "    # Try to swap last two elements\n",
    "    if perm[-1] > perm[-2]:\n",
    "        perm[-1], perm[-2] = perm[-2], perm[-1]\n",
    "    else:\n",
    "        # Go back until we find an index to be incremented\n",
    "        i = n - 2\n",
    "        while perm[i] >= perm[i + 1]:\n",
    "            i -= 1\n",
    "            if i < 0: # Last dictionary sorted permutation\n",
    "                return []\n",
    "        # Find smallest element in perm[i+1] which is larger than perm[i]\n",
    "        i_next_largest = i + 1\n",
    "        for j in range(i + 2, n):\n",
    "            if perm[j] > perm[i] and perm[j] < perm[i_next_largest]:\n",
    "                i_next_largest = j\n",
    "        # Move that element and sort the remaining array\n",
    "        perm[i], perm[i_next_largest] = perm[i_next_largest], perm[i]\n",
    "        perm[i+1:] = sorted(perm[i+1:])\n",
    "    return perm"
   ]
  },
  {
   "cell_type": "markdown",
   "metadata": {},
   "source": [
    "1. My algorithm is the same as the book solution and works, but is redundant. I don't need to check the case where the array has length 1, and I only need to swap once. It was a quick fix to edit my code after seeing this. \n",
    "2. I figured out the solution to the problem by using concrete examples, and I didn't give up.\n",
    "3. The answer took me over an hour to produce.\n",
    "4. Nothing new to learn."
   ]
  },
  {
   "cell_type": "markdown",
   "metadata": {},
   "source": [
    "### Sample offline data"
   ]
  },
  {
   "cell_type": "code",
   "execution_count": 9,
   "metadata": {},
   "outputs": [],
   "source": [
    "def random_sampling(k, A):\n",
    "    import random\n",
    "    for i in range(k):\n",
    "        r = random.randint(i, len(A)-1)\n",
    "        A[i], A[r] = A[r], A[i]"
   ]
  },
  {
   "cell_type": "markdown",
   "metadata": {},
   "source": [
    "### Sample online data"
   ]
  },
  {
   "cell_type": "markdown",
   "metadata": {},
   "source": [
    "### Compute a random permutation\n",
    "Start with an array $A$ with $A[i] = i$ for i in range 0 to n-1, inclusive. Choose random index 0 to n-1 and swap this with the first element. This first element is then uniformly random. Now move on to the second element and choose a random index 1 to n-1, then swap with that element. Repeat for the entire array."
   ]
  },
  {
   "cell_type": "code",
   "execution_count": 30,
   "metadata": {},
   "outputs": [],
   "source": [
    "import random\n",
    "\n",
    "def compute_random_permutation(n):\n",
    "    \n",
    "    A = list(range(n))\n",
    "    for i in range(n):\n",
    "        r = random.randint(i, n-1)\n",
    "        A[i], A[r] = A[r], A[i]\n",
    "    return A"
   ]
  },
  {
   "cell_type": "markdown",
   "metadata": {},
   "source": [
    "1. I like my solution better. The book does something similar but it's explained in a weird way.\n",
    "2. I solved the problem quickly. It wasn't too hard.\n",
    "3. Nothing went wrong.\n",
    "4. Nothing to learn."
   ]
  },
  {
   "cell_type": "markdown",
   "metadata": {},
   "source": [
    "### Compute a random subset"
   ]
  },
  {
   "cell_type": "markdown",
   "metadata": {},
   "source": [
    "### Generate nonuniform random numbers\n",
    "In the case of continuous variables, the cumulative distribution function $F$ is defined as $F\\left(x\\right) = \\int_{-\\infty}^{x} p\\left(x{'}\\right)dx{'}$. Inverse sampling can be used to generate the desired distribution, in other words finding $x\\left(F\\right)$. \n",
    "\n",
    "Another way to view this: there is an array with $k$ bins, and we choose a random position along the array. If we land inside a bin, we return the number in the bin. Inverse sampling will change the bin sizes according to their probabilities. \n",
    "\n",
    "This will take $O(n)$ time to seach the array $F$ for the correct position of the generated random number. "
   ]
  },
  {
   "cell_type": "code",
   "execution_count": 31,
   "metadata": {},
   "outputs": [],
   "source": [
    "def nonuniform_random_number_generation(values, probabilities):\n",
    "    # Find cumulative probabilities\n",
    "    F = list(itertools.accumulate(probabilities))\n",
    "    # Choose random element\n",
    "    r = random.random()\n",
    "    # Search for correct position in F\n",
    "    for i in range(len(F)):\n",
    "        if r <= F[i]:\n",
    "            return values[i]"
   ]
  },
  {
   "cell_type": "markdown",
   "metadata": {},
   "source": [
    "1. Book solution efficiently use *bisect* for binary search. \n",
    "2. I had the right idea for the solution. \n",
    "3. I didn't make the connection between what I knew was the correct method and how to put that into code. I also took too long.\n",
    "4. Couldn't hurt to learn all the standard modules."
   ]
  },
  {
   "cell_type": "markdown",
   "metadata": {},
   "source": [
    "## Strings"
   ]
  },
  {
   "cell_type": "markdown",
   "metadata": {},
   "source": [
    "### Interconvert strings and integers "
   ]
  },
  {
   "cell_type": "code",
   "execution_count": 32,
   "metadata": {},
   "outputs": [],
   "source": [
    "def int_to_string(x: int) -> str:\n",
    "\n",
    "    negative = x < 0\n",
    "    x = abs(x)\n",
    "\n",
    "    s = ''\n",
    "    while True:\n",
    "        s = ''.join([chr(ord('0') + x % 10), s])\n",
    "        x = x // 10\n",
    "        if x == 0:\n",
    "            break\n",
    "\n",
    "    if negative:\n",
    "        s = ''.join(['-', s])\n",
    "    return s\n",
    "\n",
    "\n",
    "def string_to_int(s: str) -> int:\n",
    "\n",
    "    x, sign = 0, +1\n",
    "    str_to_int_dict = {'0': 0, '1': 1, '2': 2, '3': 3, '4': 4,\n",
    "                       '5': 5, '6': 6, '7': 7, '8': 8, '9': 9}\n",
    "    if s[0] not in str_to_int_dict:\n",
    "        sign = 1 - 2*(s[0] == '-')\n",
    "        s = s[1:]\n",
    "    for i, char in enumerate(reversed(s)):\n",
    "        x += (10**i) * str_to_int_dict[char]\n",
    "    return sign * x"
   ]
  },
  {
   "cell_type": "markdown",
   "metadata": {},
   "source": [
    "### Base conversion\n",
    "Find X, the number in base 10. Then convert to base b2 by a series of mods and divides."
   ]
  },
  {
   "cell_type": "code",
   "execution_count": 1,
   "metadata": {},
   "outputs": [],
   "source": [
    "def convert_base(num_as_string: str, b1: int, b2: int) -> str:\n",
    "\n",
    "    # Strip leading +/- sign\n",
    "    is_negative = False\n",
    "    if num_as_string[0] in ['+', '-']:\n",
    "        is_negative = num_as_string[0] == '-'\n",
    "        num_as_string = num_as_string[1:]\n",
    "\n",
    "    # Convert from base b1 to base 10\n",
    "    X, factor = 0, 1\n",
    "    for i, char in enumerate(reversed(num_as_string)):\n",
    "        number = ord(char) - ord('0')\n",
    "        if number > 9:\n",
    "            number = (ord(char) - ord('A') + 10)\n",
    "        X += int(number) * factor\n",
    "        factor *= b1\n",
    "\n",
    "    # Convert to X to base b2\n",
    "    start_index = int(math.log(X, b2)) if X > 0 else 0\n",
    "    A = [0] * (start_index + 1)\n",
    "    factor = b2 ** start_index\n",
    "    for i in range(len(A)):\n",
    "        A[i] = int(X // factor)\n",
    "        X %= factor\n",
    "        factor /= b2\n",
    "        if X == 0:\n",
    "            break\n",
    "\n",
    "    # Change numbers larger than 10 to letters\n",
    "    for i, number in enumerate(A):\n",
    "        if number >= 10:\n",
    "            A[i] = chr(ord('A') - 10 + number)\n",
    "\n",
    "    # Convert list to string representation\n",
    "    num_as_string_base_b2 = ''.join([str(c) for c in A])\n",
    "    if is_negative:\n",
    "        num_as_string_base_b2 = ''.join(['-', num_as_string_base_b2])\n",
    "    return num_as_string_base_b2"
   ]
  },
  {
   "cell_type": "markdown",
   "metadata": {},
   "source": [
    "### Compute the spreadsheet encoding\n",
    "Each character in the string has 26 possibilities, so a string with k characters has $26^k$ possibilities. If the second letter is 'B', we know $2 * 26^(2-1)$ combinations came before: 'A', ... , 'Z', 'AA', ... , 'AZ'. Thus for each letter at index i in the reversed string, we add $26**i$ multiplied by the value of the letter to the sum."
   ]
  },
  {
   "cell_type": "code",
   "execution_count": 2,
   "metadata": {},
   "outputs": [],
   "source": [
    "def ss_decode_col_id(col: str) -> int:\n",
    "    n = 0\n",
    "    for i, letter in enumerate(reversed(col)):\n",
    "        n += (26**i) * (ord(letter) - ord('A') + 1)\n",
    "    return n"
   ]
  },
  {
   "cell_type": "markdown",
   "metadata": {},
   "source": [
    "1. Book solution uses functools.reduce nicely.\n",
    "2. I solved the problem relatively quickly.\n",
    "3. I didn't optimize the solution.\n",
    "4. Learn the standard libraries like functools and itertools. "
   ]
  },
  {
   "cell_type": "markdown",
   "metadata": {},
   "source": [
    "### Replace and remove"
   ]
  },
  {
   "cell_type": "markdown",
   "metadata": {},
   "source": [
    "#### Attempt 1 (almost works)\n",
    "Move forward through list. If we find an 'a', find a proceeding 'b' and move 'b' to the spot just after 'a' by swapping. Then change both of them to 'd'. Do this again but in reverse. Then clean up any remaining a's or b's. "
   ]
  },
  {
   "cell_type": "code",
   "execution_count": 57,
   "metadata": {},
   "outputs": [],
   "source": [
    "def replace_and_remove(size, s):\n",
    "\n",
    "    # Forward pass\n",
    "    for i in range(len(s)):\n",
    "        if s[i] == 'a':\n",
    "            for j in range(i + 1, size):\n",
    "                if s[j] == 'b':\n",
    "                    s[i] = s[j] = 'd'\n",
    "                    for k in reversed(range(i + 1, j)):\n",
    "                        s[k], s[k - 1] = s[k - 1], s[k]\n",
    "                    break\n",
    "    # Backward pass\n",
    "    for i in reversed(range(len(s))):\n",
    "        if s[i] == 'a':\n",
    "            for j in reversed(range(0, i)):\n",
    "                if s[j] == 'b':\n",
    "                    s[i] = s[j] = 'd'\n",
    "                    for k in range(j, i):\n",
    "                        s[k], s[k + 1] = s[k + 1], s[k]\n",
    "                    break\n",
    "    # Clean up\n",
    "    current_size, i = size, 0\n",
    "    while i < current_size:\n",
    "        if s[i] == 'a':\n",
    "            s[i] = 'd'\n",
    "            s.insert(i+1, 'd')\n",
    "            current_size += 1\n",
    "        elif s[i] == 'b':\n",
    "            s.pop(i)\n",
    "            current_size -= 1\n",
    "        else:\n",
    "            i += 1\n",
    "\n",
    "    return current_size"
   ]
  },
  {
   "cell_type": "markdown",
   "metadata": {},
   "source": [
    "#### Attempt 2 (used hint)"
   ]
  },
  {
   "cell_type": "code",
   "execution_count": 108,
   "metadata": {},
   "outputs": [],
   "source": [
    "def replace_and_remove(size, s):\n",
    "    \n",
    "    # Remove b's\n",
    "    i = 0\n",
    "    while i < len(s):\n",
    "        if s[i] == 'b':\n",
    "            \n",
    "    for i in range(size):\n",
    "        while s[i] == 'b':\n",
    "            for j in range(i, size):\n",
    "                s[j] = s[j + 1]\n",
    "\n",
    "    # Convert a's to d's\n",
    "    n_valid = len(s) - s.count('')\n",
    "    size = n_valid + s.count('a')\n",
    "    write_idx = size - 1\n",
    "    for char in reversed(s[:n_valid]):\n",
    "        if char == 'a':\n",
    "            s[write_idx] = s[write_idx - 1] = 'd'\n",
    "            write_idx -= 2\n",
    "        else:\n",
    "            s[write_idx] = char\n",
    "            write_idx -= 1\n",
    "\n",
    "    return size"
   ]
  },
  {
   "cell_type": "markdown",
   "metadata": {},
   "source": [
    "1. Book solution cleverly does everything in place.\n",
    "2. Figured out a solution.\n",
    "3. Way too long to implement.\n",
    "4. Nothng new to learn"
   ]
  },
  {
   "cell_type": "code",
   "execution_count": null,
   "metadata": {},
   "outputs": [],
   "source": []
  }
 ],
 "metadata": {
  "kernelspec": {
   "display_name": "Python 3",
   "language": "python",
   "name": "python3"
  },
  "language_info": {
   "codemirror_mode": {
    "name": "ipython",
    "version": 3
   },
   "file_extension": ".py",
   "mimetype": "text/x-python",
   "name": "python",
   "nbconvert_exporter": "python",
   "pygments_lexer": "ipython3",
   "version": "3.7.7"
  },
  "toc": {
   "base_numbering": "4",
   "nav_menu": {},
   "number_sections": true,
   "sideBar": true,
   "skip_h1_title": true,
   "title_cell": "Table of Contents",
   "title_sidebar": "Contents",
   "toc_cell": false,
   "toc_position": {
    "height": "calc(100% - 180px)",
    "left": "10px",
    "top": "150px",
    "width": "244.08087158203125px"
   },
   "toc_section_display": true,
   "toc_window_display": true
  }
 },
 "nbformat": 4,
 "nbformat_minor": 4
}
